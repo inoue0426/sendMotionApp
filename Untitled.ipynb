{
 "cells": [
  {
   "cell_type": "code",
   "execution_count": 91,
   "metadata": {
    "ExecuteTime": {
     "end_time": "2018-03-30T09:17:06.772884Z",
     "start_time": "2018-03-30T09:17:06.770017Z"
    }
   },
   "outputs": [],
   "source": [
    "import requests\n",
    "import sys\n",
    "import json\n",
    "import re\n",
    "# response = requests.get('https://pn-c9759a75.herokuapp.com/')"
   ]
  },
  {
   "cell_type": "code",
   "execution_count": 48,
   "metadata": {
    "ExecuteTime": {
     "end_time": "2018-03-30T08:43:24.626508Z",
     "start_time": "2018-03-30T08:43:24.624223Z"
    }
   },
   "outputs": [],
   "source": [
    "argvs = sys.argv\n",
    "\n",
    "from_ = argvs[0]\n",
    "to_ = argvs[1]\n",
    "to_sp = to_.rsplit('/', 1)\n",
    "routes = requests.get('https://pn-c9759a75.herokuapp.com/{}'.format(from_)).json()[\"routes\"]\n",
    "    \n",
    "print(from_)    \n",
    "if re.match( r'{}'.format(to_), routes[i]):\n",
    "    print(re.match( r'{}'.format(to_), routes[i]))\n",
    "elif re.match( r'{}'.format(to_sp), routes[i]):\n",
    "    print(routes[i])\n",
    "    print(to_)"
   ]
  },
  {
   "cell_type": "code",
   "execution_count": 75,
   "metadata": {
    "ExecuteTime": {
     "end_time": "2018-03-30T09:00:06.000218Z",
     "start_time": "2018-03-30T09:00:05.144130Z"
    }
   },
   "outputs": [],
   "source": [
    "routes = requests.get('https://pn-c9759a75.herokuapp.com/us/newyork/newyork').json()[\"routes\"]"
   ]
  },
  {
   "cell_type": "code",
   "execution_count": 110,
   "metadata": {
    "ExecuteTime": {
     "end_time": "2018-03-30T09:27:37.249633Z",
     "start_time": "2018-03-30T09:27:37.247239Z"
    }
   },
   "outputs": [],
   "source": [
    "to_ =  'us/newyork/newyork'\n",
    "to_sp = to_.rsplit('/', 1)"
   ]
  },
  {
   "cell_type": "code",
   "execution_count": 111,
   "metadata": {
    "ExecuteTime": {
     "end_time": "2018-03-30T09:27:37.669035Z",
     "start_time": "2018-03-30T09:27:37.666007Z"
    }
   },
   "outputs": [
    {
     "data": {
      "text/plain": [
       "['us/newyork', 'newyork']"
      ]
     },
     "execution_count": 111,
     "metadata": {},
     "output_type": "execute_result"
    }
   ],
   "source": [
    "to_sp"
   ]
  },
  {
   "cell_type": "code",
   "execution_count": 113,
   "metadata": {
    "ExecuteTime": {
     "end_time": "2018-03-30T09:29:30.339891Z",
     "start_time": "2018-03-30T09:29:30.334752Z"
    }
   },
   "outputs": [
    {
     "name": "stdout",
     "output_type": "stream",
     "text": [
      "us/california/losangeles\n",
      "us/newyork/newyork\n"
     ]
    }
   ],
   "source": []
  },
  {
   "cell_type": "code",
   "execution_count": 90,
   "metadata": {
    "ExecuteTime": {
     "end_time": "2018-03-30T09:14:38.391369Z",
     "start_time": "2018-03-30T09:14:38.387899Z"
    }
   },
   "outputs": [
    {
     "data": {
      "text/plain": [
       "{'default': 'us/california/losangeles',\n",
       " 'japan': 'japan/tokyo/shinagawa',\n",
       " 'uk': 'uk/england/london',\n",
       " 'us/california': 'us/california/losangeles',\n",
       " 'us/newyork/buffalo': 'us/newyork/buffalo',\n",
       " 'us/newyork/rochester': 'us/newyork/rochester'}"
      ]
     },
     "execution_count": 90,
     "metadata": {},
     "output_type": "execute_result"
    }
   ],
   "source": [
    "# default = routes['default']\n",
    "routes"
   ]
  },
  {
   "cell_type": "code",
   "execution_count": 88,
   "metadata": {
    "ExecuteTime": {
     "end_time": "2018-03-30T09:11:50.913018Z",
     "start_time": "2018-03-30T09:11:50.909247Z"
    }
   },
   "outputs": [
    {
     "data": {
      "text/plain": [
       "[['japan', 'tokyo', 'shinagawa'],\n",
       " ['uk', 'england', 'london'],\n",
       " ['us', 'newyork', 'rochester'],\n",
       " ['us', 'newyork', 'buffalo'],\n",
       " ['us', 'california', 'losangeles'],\n",
       " ['us', 'california', 'losangeles']]"
      ]
     },
     "execution_count": 88,
     "metadata": {},
     "output_type": "execute_result"
    }
   ],
   "source": []
  },
  {
   "cell_type": "code",
   "execution_count": 86,
   "metadata": {
    "ExecuteTime": {
     "end_time": "2018-03-30T09:03:11.632750Z",
     "start_time": "2018-03-30T09:03:11.629192Z"
    }
   },
   "outputs": [
    {
     "data": {
      "text/plain": [
       "[['japan', 'tokyo', 'shinagawa'],\n",
       " ['uk', 'england', 'london'],\n",
       " ['us', 'newyork', 'rochester'],\n",
       " ['us', 'newyork', 'buffalo'],\n",
       " ['us', 'california', 'losangeles'],\n",
       " ['us', 'california', 'losangeles']]"
      ]
     },
     "execution_count": 86,
     "metadata": {},
     "output_type": "execute_result"
    }
   ],
   "source": []
  },
  {
   "cell_type": "code",
   "execution_count": 71,
   "metadata": {
    "ExecuteTime": {
     "end_time": "2018-03-30T08:56:06.335765Z",
     "start_time": "2018-03-30T08:56:06.326668Z"
    }
   },
   "outputs": [
    {
     "ename": "TypeError",
     "evalue": "the JSON object must be str, bytes or bytearray, not 'dict'",
     "output_type": "error",
     "traceback": [
      "\u001b[0;31m---------------------------------------------------------------------------\u001b[0m",
      "\u001b[0;31mTypeError\u001b[0m                                 Traceback (most recent call last)",
      "\u001b[0;32m<ipython-input-71-83a312a40ea8>\u001b[0m in \u001b[0;36m<module>\u001b[0;34m()\u001b[0m\n\u001b[0;32m----> 1\u001b[0;31m \u001b[0mjson_dict\u001b[0m \u001b[0;34m=\u001b[0m \u001b[0mjson\u001b[0m\u001b[0;34m.\u001b[0m\u001b[0mloads\u001b[0m\u001b[0;34m(\u001b[0m\u001b[0mjson_\u001b[0m\u001b[0;34m.\u001b[0m\u001b[0mjson\u001b[0m\u001b[0;34m(\u001b[0m\u001b[0;34m)\u001b[0m\u001b[0;34m)\u001b[0m\u001b[0;34m\u001b[0m\u001b[0m\n\u001b[0m\u001b[1;32m      2\u001b[0m \u001b[0mprint\u001b[0m\u001b[0;34m(\u001b[0m\u001b[0;34m'json_dict:{}'\u001b[0m\u001b[0;34m.\u001b[0m\u001b[0mformat\u001b[0m\u001b[0;34m(\u001b[0m\u001b[0mtype\u001b[0m\u001b[0;34m(\u001b[0m\u001b[0mjson_dict\u001b[0m\u001b[0;34m)\u001b[0m\u001b[0;34m)\u001b[0m\u001b[0;34m)\u001b[0m\u001b[0;34m\u001b[0m\u001b[0m\n",
      "\u001b[0;32m~/anaconda/lib/python3.6/json/__init__.py\u001b[0m in \u001b[0;36mloads\u001b[0;34m(s, encoding, cls, object_hook, parse_float, parse_int, parse_constant, object_pairs_hook, **kw)\u001b[0m\n\u001b[1;32m    346\u001b[0m         \u001b[0;32mif\u001b[0m \u001b[0;32mnot\u001b[0m \u001b[0misinstance\u001b[0m\u001b[0;34m(\u001b[0m\u001b[0ms\u001b[0m\u001b[0;34m,\u001b[0m \u001b[0;34m(\u001b[0m\u001b[0mbytes\u001b[0m\u001b[0;34m,\u001b[0m \u001b[0mbytearray\u001b[0m\u001b[0;34m)\u001b[0m\u001b[0;34m)\u001b[0m\u001b[0;34m:\u001b[0m\u001b[0;34m\u001b[0m\u001b[0m\n\u001b[1;32m    347\u001b[0m             raise TypeError('the JSON object must be str, bytes or bytearray, '\n\u001b[0;32m--> 348\u001b[0;31m                             'not {!r}'.format(s.__class__.__name__))\n\u001b[0m\u001b[1;32m    349\u001b[0m         \u001b[0ms\u001b[0m \u001b[0;34m=\u001b[0m \u001b[0ms\u001b[0m\u001b[0;34m.\u001b[0m\u001b[0mdecode\u001b[0m\u001b[0;34m(\u001b[0m\u001b[0mdetect_encoding\u001b[0m\u001b[0;34m(\u001b[0m\u001b[0ms\u001b[0m\u001b[0;34m)\u001b[0m\u001b[0;34m,\u001b[0m \u001b[0;34m'surrogatepass'\u001b[0m\u001b[0;34m)\u001b[0m\u001b[0;34m\u001b[0m\u001b[0m\n\u001b[1;32m    350\u001b[0m \u001b[0;34m\u001b[0m\u001b[0m\n",
      "\u001b[0;31mTypeError\u001b[0m: the JSON object must be str, bytes or bytearray, not 'dict'"
     ]
    }
   ],
   "source": [
    "json_dict = json.loads(json_.json())\n",
    "print('json_dict:{}'.format(type(json_dict)))"
   ]
  },
  {
   "cell_type": "code",
   "execution_count": 56,
   "metadata": {
    "ExecuteTime": {
     "end_time": "2018-03-30T08:49:10.773434Z",
     "start_time": "2018-03-30T08:49:10.770438Z"
    }
   },
   "outputs": [
    {
     "data": {
      "text/plain": [
       "'{\"address\":\"us/newyork/newyork\",\"routes\":{\"japan\":\"japan/tokyo/shinagawa\",\"uk\":\"uk/england/london\",\"us/newyork/rochester\":\"us/newyork/rochester\",\"us/newyork/buffalo\":\"us/newyork/buffalo\",\"us/california\":\"us/california/losangeles\",\"default\":\"us/california/losangeles\"}}'"
      ]
     },
     "execution_count": 56,
     "metadata": {},
     "output_type": "execute_result"
    }
   ],
   "source": [
    "response"
   ]
  },
  {
   "cell_type": "code",
   "execution_count": 42,
   "metadata": {
    "ExecuteTime": {
     "end_time": "2018-03-30T08:40:25.550699Z",
     "start_time": "2018-03-30T08:40:25.546956Z"
    }
   },
   "outputs": [],
   "source": [
    "# t = response.text.split(',')\n",
    "# t = [i.replace(\"\\\"\", \"\") for i in t]\n",
    "# t = [i.replace(\"[\", \"\") for i in t]\n",
    "# t = [i.replace(\"]\", \"\") for i in t]"
   ]
  },
  {
   "cell_type": "code",
   "execution_count": 45,
   "metadata": {
    "ExecuteTime": {
     "end_time": "2018-03-30T08:41:18.586479Z",
     "start_time": "2018-03-30T08:41:17.823525Z"
    }
   },
   "outputs": [
    {
     "data": {
      "text/plain": [
       "'{\"address\":\"us/newyork/newyork\",\"routes\":{\"japan\":\"japan/tokyo/shinagawa\",\"uk\":\"uk/england/london\",\"us/newyork/rochester\":\"us/newyork/rochester\",\"us/newyork/buffalo\":\"us/newyork/buffalo\",\"us/california\":\"us/california/losangeles\",\"default\":\"us/california/losangeles\"}}'"
      ]
     },
     "execution_count": 45,
     "metadata": {},
     "output_type": "execute_result"
    }
   ],
   "source": [
    "response = requests.get('https://pn-c9759a75.herokuapp.com/us/newyork/newyork')"
   ]
  },
  {
   "cell_type": "code",
   "execution_count": 17,
   "metadata": {
    "ExecuteTime": {
     "end_time": "2018-03-30T08:31:34.806929Z",
     "start_time": "2018-03-30T08:31:34.803578Z"
    }
   },
   "outputs": [
    {
     "data": {
      "text/plain": [
       "['[\"japan/osaka/namba\"',\n",
       " '\"japan/osaka/umeda\"',\n",
       " '\"japan/tokyo/shinagawa\"',\n",
       " '\"japan/tokyo/shinjuku\"',\n",
       " '\"uk/england/london\"',\n",
       " '\"uk/england/manchester\"',\n",
       " '\"uk/scotland/edinburgh\"',\n",
       " '\"uk/scotland/glasgow\"',\n",
       " '\"us/california/losangeles\"',\n",
       " '\"us/california/sandiego\"',\n",
       " '\"us/california/sanjose\"',\n",
       " '\"us/newyork/buffalo\"',\n",
       " '\"us/newyork/newyork\"',\n",
       " '\"us/newyork/rochester\"]']"
      ]
     },
     "execution_count": 17,
     "metadata": {},
     "output_type": "execute_result"
    }
   ],
   "source": []
  }
 ],
 "metadata": {
  "kernelspec": {
   "display_name": "Python 3",
   "language": "python",
   "name": "python3"
  },
  "language_info": {
   "codemirror_mode": {
    "name": "ipython",
    "version": 3
   },
   "file_extension": ".py",
   "mimetype": "text/x-python",
   "name": "python",
   "nbconvert_exporter": "python",
   "pygments_lexer": "ipython3",
   "version": "3.6.4"
  }
 },
 "nbformat": 4,
 "nbformat_minor": 2
}
